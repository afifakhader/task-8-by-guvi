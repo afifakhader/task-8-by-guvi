{
  "nbformat": 4,
  "nbformat_minor": 0,
  "metadata": {
    "colab": {
      "provenance": []
    },
    "kernelspec": {
      "name": "python3",
      "display_name": "Python 3"
    },
    "language_info": {
      "name": "python"
    }
  },
  "cells": [
    {
      "cell_type": "code",
      "execution_count": null,
      "metadata": {
        "id": "Rm0NkFJizlMD"
      },
      "outputs": [],
      "source": [
        "# pip install textblob"
      ]
    },
    {
      "cell_type": "code",
      "source": [
        "\n",
        "from textblob import Word"
      ],
      "metadata": {
        "id": "fZrbXEUHz9v-"
      },
      "execution_count": null,
      "outputs": []
    },
    {
      "cell_type": "code",
      "source": [
        "def word_corrector(word):\n",
        "  word=Word(word)\n",
        "  print(word.correct())"
      ],
      "metadata": {
        "id": "hY26qBt61VrS"
      },
      "execution_count": null,
      "outputs": []
    },
    {
      "cell_type": "code",
      "source": [
        "from textblob import TextBlob"
      ],
      "metadata": {
        "id": "pLlf--BV3t-y"
      },
      "execution_count": null,
      "outputs": []
    },
    {
      "cell_type": "code",
      "source": [
        "def sentence_corrector(sentence):\n",
        "    \n",
        "    sentence = TextBlob(sentence)\n",
        "    \n",
        "    result = sentence.correct()\n",
        "    \n",
        "    print(result)"
      ],
      "metadata": {
        "id": "IFAHuznM5J87"
      },
      "execution_count": null,
      "outputs": []
    },
    {
      "cell_type": "code",
      "source": [
        "s= \" accomodate\"\n",
        "word_corrector(s)"
      ],
      "metadata": {
        "colab": {
          "base_uri": "https://localhost:8080/"
        },
        "id": "i6zTnEQd1pHD",
        "outputId": "726f92e1-150b-4f78-9d8c-ca797d8ea928"
      },
      "execution_count": null,
      "outputs": [
        {
          "output_type": "stream",
          "name": "stdout",
          "text": [
            "accommodate\n"
          ]
        }
      ]
    },
    {
      "cell_type": "code",
      "source": [
        "s= \" acknowledgement\"\n",
        "word_corrector(s)"
      ],
      "metadata": {
        "colab": {
          "base_uri": "https://localhost:8080/"
        },
        "id": "Jzo8Bx_z557U",
        "outputId": "7efcd84b-149a-4fa0-85fe-a5b2d3737899"
      },
      "execution_count": null,
      "outputs": [
        {
          "output_type": "stream",
          "name": "stdout",
          "text": [
            "acknowledgment\n"
          ]
        }
      ]
    },
    {
      "cell_type": "code",
      "source": [
        "s= \" aquire\"\n",
        "word_corrector(s)"
      ],
      "metadata": {
        "colab": {
          "base_uri": "https://localhost:8080/"
        },
        "id": "3k-SVPKB55-3",
        "outputId": "62b66c63-97fb-4b09-aca2-a8584f4f2693"
      },
      "execution_count": null,
      "outputs": [
        {
          "output_type": "stream",
          "name": "stdout",
          "text": [
            "require\n"
          ]
        }
      ]
    },
    {
      "cell_type": "code",
      "source": [
        "s= \"apparant\"\n",
        "word_corrector(s)\n"
      ],
      "metadata": {
        "colab": {
          "base_uri": "https://localhost:8080/"
        },
        "id": "ztA3rt4f56CF",
        "outputId": "2e2bb74c-9002-4baa-9a23-f0df7f8874f3"
      },
      "execution_count": null,
      "outputs": [
        {
          "output_type": "stream",
          "name": "stdout",
          "text": [
            "apparent\n"
          ]
        }
      ]
    },
    {
      "cell_type": "code",
      "source": [
        "s= \"calender\"\n",
        "word_corrector(s)"
      ],
      "metadata": {
        "colab": {
          "base_uri": "https://localhost:8080/"
        },
        "id": "IPEq_IE256E7",
        "outputId": "a5c57f3b-ad2c-4ffc-eeea-f5e4dd448535"
      },
      "execution_count": null,
      "outputs": [
        {
          "output_type": "stream",
          "name": "stdout",
          "text": [
            "callender\n"
          ]
        }
      ]
    },
    {
      "cell_type": "code",
      "source": [
        "s= \"collaegue\"\n",
        "word_corrector(s)"
      ],
      "metadata": {
        "colab": {
          "base_uri": "https://localhost:8080/"
        },
        "id": "wa1KunJ_56Ie",
        "outputId": "e2c401fd-4c1a-42e9-c5f8-505ae7b09785"
      },
      "execution_count": null,
      "outputs": [
        {
          "output_type": "stream",
          "name": "stdout",
          "text": [
            "colleague\n"
          ]
        }
      ]
    },
    {
      "cell_type": "code",
      "source": [
        "s= \"consciencious\"\n",
        "word_corrector(s)"
      ],
      "metadata": {
        "colab": {
          "base_uri": "https://localhost:8080/"
        },
        "id": "U3GuaLTn56MV",
        "outputId": "14c1c8ad-52cc-4760-ecc9-587133c0569d"
      },
      "execution_count": null,
      "outputs": [
        {
          "output_type": "stream",
          "name": "stdout",
          "text": [
            "conscientious\n"
          ]
        }
      ]
    },
    {
      "cell_type": "code",
      "source": [
        "s= \"concensus\"\n",
        "word_corrector(s)"
      ],
      "metadata": {
        "colab": {
          "base_uri": "https://localhost:8080/"
        },
        "id": "b7HgY8Th56P3",
        "outputId": "775258ca-8ac4-46ef-eff9-ab7abb939b36"
      },
      "execution_count": null,
      "outputs": [
        {
          "output_type": "stream",
          "name": "stdout",
          "text": [
            "consensus\n"
          ]
        }
      ]
    },
    {
      "cell_type": "code",
      "source": [
        "s= \"entrepeneur\"\n",
        "word_corrector(s)\n"
      ],
      "metadata": {
        "colab": {
          "base_uri": "https://localhost:8080/"
        },
        "id": "IsUhTa8w56Ts",
        "outputId": "decae61b-ed3b-4164-aa8e-bce14d871c86"
      },
      "execution_count": null,
      "outputs": [
        {
          "output_type": "stream",
          "name": "stdout",
          "text": [
            "entrepeneur\n"
          ]
        }
      ]
    },
    {
      "cell_type": "code",
      "source": [
        "s= \"experiance\"\n",
        "word_corrector(s)"
      ],
      "metadata": {
        "colab": {
          "base_uri": "https://localhost:8080/"
        },
        "id": "9XJma8tX56XT",
        "outputId": "c549f8b3-e124-4811-9302-4bf55351a758"
      },
      "execution_count": null,
      "outputs": [
        {
          "output_type": "stream",
          "name": "stdout",
          "text": [
            "experience\n"
          ]
        }
      ]
    },
    {
      "cell_type": "code",
      "source": [
        "s= \" fulfil \"\n",
        "word_corrector(s)"
      ],
      "metadata": {
        "colab": {
          "base_uri": "https://localhost:8080/"
        },
        "id": "mBVvcVbf56az",
        "outputId": "70b3f801-f117-4900-b768-645e372610c4"
      },
      "execution_count": null,
      "outputs": [
        {
          "output_type": "stream",
          "name": "stdout",
          "text": [
            "fulfill\n"
          ]
        }
      ]
    },
    {
      "cell_type": "code",
      "source": [
        "s= \"indispensible\"\n",
        "word_corrector(s)"
      ],
      "metadata": {
        "colab": {
          "base_uri": "https://localhost:8080/"
        },
        "id": "rE2n-zCu56eS",
        "outputId": "0ff7f886-8cad-4cad-e80a-1e06fd11fbb8"
      },
      "execution_count": null,
      "outputs": [
        {
          "output_type": "stream",
          "name": "stdout",
          "text": [
            "indispensable\n"
          ]
        }
      ]
    },
    {
      "cell_type": "code",
      "source": [
        "s= \"liasion\"\n",
        "word_corrector(s)"
      ],
      "metadata": {
        "id": "7C90uhVX56hg",
        "colab": {
          "base_uri": "https://localhost:8080/"
        },
        "outputId": "3524e96e-042a-4b68-ba7a-c8b0af397edb"
      },
      "execution_count": null,
      "outputs": [
        {
          "output_type": "stream",
          "name": "stdout",
          "text": [
            "liaison\n"
          ]
        }
      ]
    },
    {
      "cell_type": "code",
      "source": [
        "s= \"licence\"\n",
        "word_corrector(s)"
      ],
      "metadata": {
        "id": "j9R9hvzM56lP",
        "colab": {
          "base_uri": "https://localhost:8080/"
        },
        "outputId": "cc4365b8-fb17-41bc-829e-8a218385e1b2"
      },
      "execution_count": null,
      "outputs": [
        {
          "output_type": "stream",
          "name": "stdout",
          "text": [
            "licence\n"
          ]
        }
      ]
    },
    {
      "cell_type": "code",
      "source": [
        "\n",
        "s= \"maintainance\"\n",
        "word_corrector(s)"
      ],
      "metadata": {
        "id": "w9MFZmpi56pv",
        "colab": {
          "base_uri": "https://localhost:8080/"
        },
        "outputId": "f2ca432a-548e-40c1-bb53-403b75f4a6eb"
      },
      "execution_count": null,
      "outputs": [
        {
          "output_type": "stream",
          "name": "stdout",
          "text": [
            "maintenance\n"
          ]
        }
      ]
    },
    {
      "cell_type": "code",
      "source": [
        "s= \" neccessary\"\n",
        "word_corrector(s)"
      ],
      "metadata": {
        "id": "syJoYRaR56s_",
        "colab": {
          "base_uri": "https://localhost:8080/"
        },
        "outputId": "ea662efc-ee77-46fb-c798-061278f3a036"
      },
      "execution_count": null,
      "outputs": [
        {
          "output_type": "stream",
          "name": "stdout",
          "text": [
            "necessary\n"
          ]
        }
      ]
    },
    {
      "cell_type": "code",
      "source": [
        "s= \"occassion\"\n",
        "word_corrector(s)"
      ],
      "metadata": {
        "id": "Kl-XLJwM56xl",
        "colab": {
          "base_uri": "https://localhost:8080/"
        },
        "outputId": "719285db-6d84-40d7-e84b-e2f28b0e2633"
      },
      "execution_count": null,
      "outputs": [
        {
          "output_type": "stream",
          "name": "stdout",
          "text": [
            "occasion\n"
          ]
        }
      ]
    },
    {
      "cell_type": "code",
      "source": [
        "s= \" occured\"\n",
        "word_corrector(s)"
      ],
      "metadata": {
        "id": "LeITng936I3m",
        "colab": {
          "base_uri": "https://localhost:8080/"
        },
        "outputId": "2123b342-ea5f-4491-f777-e3f4979a77d4"
      },
      "execution_count": null,
      "outputs": [
        {
          "output_type": "stream",
          "name": "stdout",
          "text": [
            "occurred\n"
          ]
        }
      ]
    },
    {
      "cell_type": "code",
      "source": [
        "s= \"pasttime\"\n",
        "word_corrector(s)"
      ],
      "metadata": {
        "id": "uiWq7cOK6I7a",
        "colab": {
          "base_uri": "https://localhost:8080/"
        },
        "outputId": "501fe812-88cb-4f89-f992-6694477b5a0d"
      },
      "execution_count": null,
      "outputs": [
        {
          "output_type": "stream",
          "name": "stdout",
          "text": [
            "pastime\n"
          ]
        }
      ]
    },
    {
      "cell_type": "code",
      "source": [
        "s= \" privelege\"\n",
        "word_corrector(s)"
      ],
      "metadata": {
        "id": "skcCg5zw6I-k",
        "colab": {
          "base_uri": "https://localhost:8080/"
        },
        "outputId": "3fe5d050-9373-4f49-b345-7c814faacc42"
      },
      "execution_count": null,
      "outputs": [
        {
          "output_type": "stream",
          "name": "stdout",
          "text": [
            "privilege\n"
          ]
        }
      ]
    },
    {
      "cell_type": "code",
      "source": [
        "s= \"publically\"\n",
        "word_corrector(s)"
      ],
      "metadata": {
        "id": "U-FR0sGG6JCG",
        "colab": {
          "base_uri": "https://localhost:8080/"
        },
        "outputId": "fc79cae4-55ec-420a-93f3-f3244ba5fb8a"
      },
      "execution_count": null,
      "outputs": [
        {
          "output_type": "stream",
          "name": "stdout",
          "text": [
            "publicly\n"
          ]
        }
      ]
    },
    {
      "cell_type": "code",
      "source": [
        "s= \"recieve\"\n",
        "word_corrector(s)"
      ],
      "metadata": {
        "id": "04Z1VfwD6JFg",
        "colab": {
          "base_uri": "https://localhost:8080/"
        },
        "outputId": "8c58e60a-4882-4079-abfa-cd20df0b04b3"
      },
      "execution_count": null,
      "outputs": [
        {
          "output_type": "stream",
          "name": "stdout",
          "text": [
            "receive\n"
          ]
        }
      ]
    },
    {
      "cell_type": "code",
      "source": [
        "s= \" i lov coffee\"\n",
        "sentence_corrector(s)"
      ],
      "metadata": {
        "colab": {
          "base_uri": "https://localhost:8080/"
        },
        "id": "38-Utluz5TlO",
        "outputId": "cb5b26ea-4eb7-46a6-ff5f-12aad5b301e6"
      },
      "execution_count": null,
      "outputs": [
        {
          "output_type": "stream",
          "name": "stdout",
          "text": [
            " i love coffee\n"
          ]
        }
      ]
    },
    {
      "cell_type": "code",
      "source": [
        "s= \" cars are depriciting\"\n",
        "sentence_corrector(s)"
      ],
      "metadata": {
        "id": "ZqSZ44TI5cB-",
        "colab": {
          "base_uri": "https://localhost:8080/"
        },
        "outputId": "c42c7d7a-11a4-4121-bbb4-f9cd00d0df07"
      },
      "execution_count": null,
      "outputs": [
        {
          "output_type": "stream",
          "name": "stdout",
          "text": [
            " cars are deprecating\n"
          ]
        }
      ]
    },
    {
      "cell_type": "code",
      "source": [
        "s= \" the smel is aweful\"\n",
        "sentence_corrector(s)"
      ],
      "metadata": {
        "id": "S3J4WGUvEeqx",
        "colab": {
          "base_uri": "https://localhost:8080/"
        },
        "outputId": "11d1b6a7-8913-455c-9b3c-5574762cb85a"
      },
      "execution_count": null,
      "outputs": [
        {
          "output_type": "stream",
          "name": "stdout",
          "text": [
            " the smell is awful\n"
          ]
        }
      ]
    },
    {
      "cell_type": "code",
      "source": [
        "s= \" the movi is a flop\"\n",
        "sentence_corrector(s)"
      ],
      "metadata": {
        "colab": {
          "base_uri": "https://localhost:8080/"
        },
        "id": "58hMmE8CTMLq",
        "outputId": "8b2a78ae-9dac-4788-cf88-e20af76f3713"
      },
      "execution_count": null,
      "outputs": [
        {
          "output_type": "stream",
          "name": "stdout",
          "text": [
            " the move is a flop\n"
          ]
        }
      ]
    },
    {
      "cell_type": "code",
      "source": [
        "s= \"rumors are spred lik fire\"\n",
        "sentence_corrector(s)"
      ],
      "metadata": {
        "colab": {
          "base_uri": "https://localhost:8080/"
        },
        "id": "byKAMHkSTRwm",
        "outputId": "2b410b68-ee58-4a72-d1ed-706b7d17edcf"
      },
      "execution_count": null,
      "outputs": [
        {
          "output_type": "stream",
          "name": "stdout",
          "text": [
            "rumors are spread like fire\n"
          ]
        }
      ]
    },
    {
      "cell_type": "code",
      "source": [
        "s= \" no pian no gian\"\n",
        "sentence_corrector(s)"
      ],
      "metadata": {
        "colab": {
          "base_uri": "https://localhost:8080/"
        },
        "id": "TdrR1LDcTYwk",
        "outputId": "e21ec5c4-abe7-46a8-f27f-44d3b3c0a194"
      },
      "execution_count": null,
      "outputs": [
        {
          "output_type": "stream",
          "name": "stdout",
          "text": [
            " no pain no gain\n"
          ]
        }
      ]
    },
    {
      "cell_type": "code",
      "source": [
        "s= \"all thst shines is not gold\"\n",
        "sentence_corrector(s)"
      ],
      "metadata": {
        "colab": {
          "base_uri": "https://localhost:8080/"
        },
        "id": "HT1IPMP5TlI4",
        "outputId": "12deec7c-ed0f-47f8-9c89-eb4c949379c5"
      },
      "execution_count": null,
      "outputs": [
        {
          "output_type": "stream",
          "name": "stdout",
          "text": [
            "all that shines is not gold\n"
          ]
        }
      ]
    },
    {
      "cell_type": "code",
      "source": [
        "s= \" there are nime planets\"\n",
        "sentence_corrector(s)"
      ],
      "metadata": {
        "colab": {
          "base_uri": "https://localhost:8080/"
        },
        "id": "xJqGX68ZTpuk",
        "outputId": "230f55f0-70d2-4aca-b221-6a2ae77b0a76"
      },
      "execution_count": null,
      "outputs": [
        {
          "output_type": "stream",
          "name": "stdout",
          "text": [
            " there are time planets\n"
          ]
        }
      ]
    },
    {
      "cell_type": "code",
      "source": [
        "s= \" roze is a flower\"\n",
        "sentence_corrector(s)"
      ],
      "metadata": {
        "colab": {
          "base_uri": "https://localhost:8080/"
        },
        "id": "LSJl7JUkT61j",
        "outputId": "f1237630-d881-43e1-d6d4-596b851b32f3"
      },
      "execution_count": null,
      "outputs": [
        {
          "output_type": "stream",
          "name": "stdout",
          "text": [
            " rose is a flower\n"
          ]
        }
      ]
    },
    {
      "cell_type": "code",
      "source": [
        "s= \" the schol is closed\"\n",
        "sentence_corrector(s)"
      ],
      "metadata": {
        "colab": {
          "base_uri": "https://localhost:8080/"
        },
        "id": "4m3RxrsAUC2z",
        "outputId": "61f647e7-1c87-43f6-e95d-190d44d72987"
      },
      "execution_count": null,
      "outputs": [
        {
          "output_type": "stream",
          "name": "stdout",
          "text": [
            " the school is closed\n"
          ]
        }
      ]
    },
    {
      "cell_type": "code",
      "source": [
        "s= \" an appple a day keeps the docter away\"\n",
        "sentence_corrector(s)"
      ],
      "metadata": {
        "colab": {
          "base_uri": "https://localhost:8080/"
        },
        "id": "EBZBELdhUdU4",
        "outputId": "ae45549f-342a-41a0-e674-82b09c729e56"
      },
      "execution_count": null,
      "outputs": [
        {
          "output_type": "stream",
          "name": "stdout",
          "text": [
            " an apple a day keeps the doctor away\n"
          ]
        }
      ]
    },
    {
      "cell_type": "code",
      "source": [
        "s= \"the sky is blu\"\n",
        "sentence_corrector(s)"
      ],
      "metadata": {
        "colab": {
          "base_uri": "https://localhost:8080/"
        },
        "id": "28nE5eW9VDqs",
        "outputId": "09377650-2367-4c7d-f203-dc6606198ee6"
      },
      "execution_count": null,
      "outputs": [
        {
          "metadata": {
            "tags": null
          },
          "name": "stdout",
          "output_type": "stream",
          "text": [
            "the sky is blue\n"
          ]
        }
      ]
    },
    {
      "cell_type": "code",
      "source": [
        "s= \"the ice wil melt\"\n",
        "sentence_corrector(s)"
      ],
      "metadata": {
        "colab": {
          "base_uri": "https://localhost:8080/"
        },
        "id": "4EJd6KlsWJYn",
        "outputId": "3698602d-d455-482d-e6f3-d00990ea40de"
      },
      "execution_count": null,
      "outputs": [
        {
          "output_type": "stream",
          "name": "stdout",
          "text": [
            "the ice will melt\n"
          ]
        }
      ]
    },
    {
      "cell_type": "code",
      "source": [
        "s= \"i am hungrry\"\n",
        "sentence_corrector(s)"
      ],
      "metadata": {
        "colab": {
          "base_uri": "https://localhost:8080/"
        },
        "id": "0lNtUVRnXdJs",
        "outputId": "f8266f9b-9fba-40df-9d95-bd7504ff268d"
      },
      "execution_count": null,
      "outputs": [
        {
          "output_type": "stream",
          "name": "stdout",
          "text": [
            "i am hungry\n"
          ]
        }
      ]
    },
    {
      "cell_type": "code",
      "source": [
        "s= \"the foood is delicioous\"\n",
        "sentence_corrector(s)"
      ],
      "metadata": {
        "colab": {
          "base_uri": "https://localhost:8080/"
        },
        "id": "tWIhTw0xYGgP",
        "outputId": "09ae8109-2ae0-4a27-fcf7-27470292d063"
      },
      "execution_count": null,
      "outputs": [
        {
          "output_type": "stream",
          "name": "stdout",
          "text": [
            "the food is delicious\n"
          ]
        }
      ]
    },
    {
      "cell_type": "code",
      "source": [
        "s= \"its raining heavili\"\n",
        "sentence_corrector(s)"
      ],
      "metadata": {
        "colab": {
          "base_uri": "https://localhost:8080/"
        },
        "id": "Rb-gWwz8YLOT",
        "outputId": "85737e24-a044-4cc1-89a8-93f7b50e9ecd"
      },
      "execution_count": null,
      "outputs": [
        {
          "output_type": "stream",
          "name": "stdout",
          "text": [
            "its raining heavily\n"
          ]
        }
      ]
    },
    {
      "cell_type": "code",
      "source": [
        "s= \"sun is shinning brightyly\"\n",
        "sentence_corrector(s)"
      ],
      "metadata": {
        "colab": {
          "base_uri": "https://localhost:8080/"
        },
        "id": "jhYZq-YMYRLv",
        "outputId": "ddf4899b-9aa5-46a7-a304-4f7a257158fb"
      },
      "execution_count": null,
      "outputs": [
        {
          "output_type": "stream",
          "name": "stdout",
          "text": [
            "sun is shining brightly\n"
          ]
        }
      ]
    },
    {
      "cell_type": "code",
      "source": [
        "s= \"content creationn is toughh\"\n",
        "sentence_corrector(s)"
      ],
      "metadata": {
        "colab": {
          "base_uri": "https://localhost:8080/"
        },
        "id": "KueGL01KYXYX",
        "outputId": "382892b5-5f46-47f5-c198-235a4b177bae"
      },
      "execution_count": null,
      "outputs": [
        {
          "output_type": "stream",
          "name": "stdout",
          "text": [
            "content creation is tough\n"
          ]
        }
      ]
    },
    {
      "cell_type": "code",
      "source": [
        "s= \"brickks makes wallls\"\n",
        "sentence_corrector(s)"
      ],
      "metadata": {
        "colab": {
          "base_uri": "https://localhost:8080/"
        },
        "id": "ASEgukIpYfMW",
        "outputId": "924eb7d1-a78d-4c90-e6e7-50e9dc9b326c"
      },
      "execution_count": null,
      "outputs": [
        {
          "output_type": "stream",
          "name": "stdout",
          "text": [
            "bricks makes walls\n"
          ]
        }
      ]
    },
    {
      "cell_type": "code",
      "source": [
        "s= \"my payment is pendding\"\n",
        "sentence_corrector(s)"
      ],
      "metadata": {
        "colab": {
          "base_uri": "https://localhost:8080/"
        },
        "id": "vGNMQPIrYoDq",
        "outputId": "a9b9ffc7-8b31-4996-b620-7bfc972d54db"
      },
      "execution_count": null,
      "outputs": [
        {
          "output_type": "stream",
          "name": "stdout",
          "text": [
            "my payment is pending\n"
          ]
        }
      ]
    },
    {
      "cell_type": "code",
      "source": [],
      "metadata": {
        "id": "jpr-CtikYtwK"
      },
      "execution_count": null,
      "outputs": []
    }
  ]
}